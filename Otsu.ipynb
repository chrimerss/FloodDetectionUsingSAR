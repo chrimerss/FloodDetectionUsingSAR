{
 "cells": [
  {
   "cell_type": "code",
   "execution_count": 66,
   "metadata": {},
   "outputs": [],
   "source": [
    "import geemap\n",
    "import ee"
   ]
  },
  {
   "cell_type": "code",
   "execution_count": 67,
   "metadata": {},
   "outputs": [],
   "source": [
    "Map= geemap.Map(center=[40,-100], zoom=4)"
   ]
  },
  {
   "cell_type": "code",
   "execution_count": 68,
   "metadata": {},
   "outputs": [
    {
     "data": {
      "application/vnd.jupyter.widget-view+json": {
       "model_id": "8b60716f06934280b943a81a6602a685",
       "version_major": 2,
       "version_minor": 0
      },
      "text/plain": [
       "Map(center=[40, -100], controls=(WidgetControl(options=['position'], widget=HBox(children=(ToggleButton(value=…"
      ]
     },
     "metadata": {},
     "output_type": "display_data"
    }
   ],
   "source": [
    "Map"
   ]
  },
  {
   "cell_type": "code",
   "execution_count": 65,
   "metadata": {},
   "outputs": [],
   "source": [
    "region_shp= '/Users/allen/OneDrive - University of Oklahoma/CRESTHH/Case study - Harvey/Houston_basin.shp'\n",
    "region= geemap.shp_to_ee(region_shp)"
   ]
  },
  {
   "cell_type": "code",
   "execution_count": 69,
   "metadata": {},
   "outputs": [],
   "source": [
    "Map.addLayer(region)"
   ]
  },
  {
   "cell_type": "code",
   "execution_count": 71,
   "metadata": {},
   "outputs": [],
   "source": [
    "sent1= ee.Image('COPERNICUS/S1_GRD/S1A_IW_GRDH_1SDV_20170829T002620_20170829T002645_018131_01E74D_D734').clip(region)\n",
    "Map.addLayer(sent1.select('VV'), {'min':-30, 'max':0}, 'SAR')\n",
    "# Map.setCenter(81.26, 6.28,11)"
   ]
  },
  {
   "cell_type": "code",
   "execution_count": 73,
   "metadata": {},
   "outputs": [],
   "source": [
    "#mask out water bodies\n",
    "#import Hansen et al. forest change dataset\n",
    "hansenImage= ee.Image('UMD/hansen/global_forest_change_2019_v1_6').clip(region)\n",
    "datamask= hansenImage.select('datamask')\n",
    "mask= datamask.eq(1)\n",
    "sent1= sent1.updateMask(mask)\n",
    "Map.addLayer(sent1, {'min':-30, 'max':0}, 'hansen corrected')"
   ]
  },
  {
   "cell_type": "code",
   "execution_count": 74,
   "metadata": {},
   "outputs": [],
   "source": [
    "# filter out speckle noise\n",
    "sent1= sent1.focal_median(30, 'circle', 'meters')\n",
    "\n",
    "#mask seasonal water\n",
    "mask02= sent1.select('VV').gt(-16)\n",
    "sent1= sent1.updateMask(mask02)\n",
    "\n",
    "Map.addLayer(sent1, {'min':-30, 'max':0}, 'water masked')"
   ]
  },
  {
   "cell_type": "code",
   "execution_count": 75,
   "metadata": {},
   "outputs": [],
   "source": [
    "# compute the histogram\n",
    "histogram= sent1.select('VV').reduceRegion(**{'reducer':\n",
    "                                            (ee.Reducer.histogram(255,2)\n",
    "                                                 .combine('mean', None, True)\n",
    "                                                 .combine('variance', None, True)),\n",
    "                                           'geometry':region,\n",
    "                                            'scale':30,\n",
    "                                           'bestEffort':True})"
   ]
  },
  {
   "cell_type": "code",
   "execution_count": 76,
   "metadata": {},
   "outputs": [],
   "source": [
    "def otsu(histogram):\n",
    "    counts= ee.Array(ee.Dictionary(histogram).get('histogram'))\n",
    "    means= ee.Array(ee.Dictionary(histogram).get('bucketMeans'))\n",
    "    size= means.length().get([0])\n",
    "    total= counts.reduce(ee.Reducer.sum(), [0]).get([0])\n",
    "    sum= means.multiply(counts).reduce(ee.Reducer.sum(),[0]).get([0])\n",
    "    mean= sum.divide(total)\n",
    "    \n",
    "    indices= ee.List.sequence(1, size)\n",
    "    def _lambda(i):\n",
    "        aCounts= counts.slice(0,0,i)\n",
    "        aCount= aCounts.reduce(ee.Reducer.sum(), [0]).get([0])\n",
    "        aMeans= means.slice(0,0,i)\n",
    "        aMean= aMeans.multiply(aCounts).reduce(ee.Reducer.sum(),[0]).get([0]).divide(aCount)\n",
    "        bCount=total.subtract(aCount)\n",
    "        bMean= sum.subtract(aCount.multiply(aMean)).divide(bCount)\n",
    "        return aCount.multiply(aMean.subtract(mean).pow(2)).add(bCount.multiply(bMean.subtract(mean).pow(2)))\n",
    "    \n",
    "    bss= indices.map(_lambda)\n",
    "    return means.sort(bss).get([-1])"
   ]
  },
  {
   "cell_type": "code",
   "execution_count": 77,
   "metadata": {},
   "outputs": [],
   "source": [
    "threshold= otsu(histogram.get('VV_histogram'))"
   ]
  },
  {
   "cell_type": "code",
   "execution_count": 78,
   "metadata": {},
   "outputs": [],
   "source": [
    "classA = sent1.select('VV').lt(threshold);\n",
    "\n",
    "Map.addLayer(classA.mask(classA), {'palette': 'blue'}, 'Flood');"
   ]
  },
  {
   "cell_type": "code",
   "execution_count": 79,
   "metadata": {},
   "outputs": [],
   "source": [
    "#add visual inspection\n",
    "rgbVis = {\n",
    "  'min': 0.0,\n",
    "  'max': 0.3*10000,\n",
    "  'bands': ['B4', 'B3', 'B2'],\n",
    "};"
   ]
  },
  {
   "cell_type": "code",
   "execution_count": 80,
   "metadata": {},
   "outputs": [],
   "source": [
    "dataset = ee.ImageCollection('COPERNICUS/S2').filterBounds(gns).filterDate('2017-08-25', '2017-08-30');\n",
    "Map.addLayer(dataset.mosaic().clip(region), rgbVis, 'RGB',0);"
   ]
  }
 ],
 "metadata": {
  "kernelspec": {
   "display_name": "Python 3",
   "language": "python",
   "name": "python3"
  },
  "language_info": {
   "codemirror_mode": {
    "name": "ipython",
    "version": 3
   },
   "file_extension": ".py",
   "mimetype": "text/x-python",
   "name": "python",
   "nbconvert_exporter": "python",
   "pygments_lexer": "ipython3",
   "version": "3.6.8"
  }
 },
 "nbformat": 4,
 "nbformat_minor": 2
}
