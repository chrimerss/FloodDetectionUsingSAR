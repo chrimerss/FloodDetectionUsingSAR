{
 "cells": [
  {
   "cell_type": "markdown",
   "metadata": {},
   "source": [
    "This module is a reproduce of Grimadi et al. 2020 RSE - \"Flood mapping under vegetation using single SAR acquisitions\" [link](https://www.sciencedirect.com/science/article/pii/S0034425719306029?via%3Dihub#bb0510)\n",
    "\n",
    "We use GEE to process the datasets"
   ]
  },
  {
   "cell_type": "code",
   "execution_count": 18,
   "metadata": {},
   "outputs": [],
   "source": [
    "import geemap\n",
    "import numpy as np\n",
    "import ee"
   ]
  },
  {
   "cell_type": "code",
   "execution_count": 19,
   "metadata": {},
   "outputs": [
    {
     "data": {
      "application/vnd.jupyter.widget-view+json": {
       "model_id": "2e5ae905f5a2411fb8840dbb242f25f0",
       "version_major": 2,
       "version_minor": 0
      },
      "text/plain": [
       "Map(center=[40, -100], controls=(WidgetControl(options=['position'], widget=HBox(children=(ToggleButton(value=…"
      ]
     },
     "metadata": {},
     "output_type": "display_data"
    }
   ],
   "source": [
    "Map= geemap.Map(center=[40,-100], zoom=4)\n",
    "Map"
   ]
  },
  {
   "cell_type": "markdown",
   "metadata": {},
   "source": [
    "# Data preparation\n",
    "\n",
    "The data we need to reproduce this result:\n",
    "\n",
    "- SAR backscatter data HH polarized (Sentinel-1 IW mode)\n",
    "- DEM (SRTM)\n",
    "- Land Cover (Copernicus Global Land Cover Layers: CGLS-LC100 collection 2)\n",
    "- Open water observation (JRC Monthly Water History, v1.1)"
   ]
  },
  {
   "cell_type": "code",
   "execution_count": 20,
   "metadata": {},
   "outputs": [],
   "source": [
    "#study area\n",
    "region_shp= '/Users/allen/OneDrive - University of Oklahoma/CRESTHH/Case study - Harvey/Houston_basin.shp'\n",
    "region= geemap.shp_to_ee(region_shp)\n",
    "Map.addLayer(region)"
   ]
  },
  {
   "cell_type": "code",
   "execution_count": 21,
   "metadata": {},
   "outputs": [],
   "source": [
    "SAR= ee.Image('COPERNICUS/S1_GRD/S1B_IW_GRDH_1SDV_20170818T122205_20170818T122235_006994_00C525_B566').clip(region)\n",
    "Map.addLayer(SAR.select('VH'), {'min':-30, 'max':5}, 'SAR')"
   ]
  },
  {
   "cell_type": "code",
   "execution_count": 69,
   "metadata": {},
   "outputs": [],
   "source": [
    "land= ee.ImageCollection(\"COPERNICUS/Landcover/100m/Proba-V/Global\").select('discrete_classification')\n",
    "land= land.map(lambda image: image.clip(region))\n",
    "Map.addLayer(land,  {'min': 0.0,\n",
    "  'max': 200.0,\n",
    "  'palette': [\n",
    "    \"032f7e\",\"02740b\",\"02740b\",\"8cf502\",\"8cf502\",\"a4da01\",\n",
    "    \"ffbd05\",\"ffbd05\",\"7a5a02\",\"f0ff0f\",\"869b36\",\"6091b4\",\n",
    "    \"999999\",\"ff4e4e\",\"ff4e4e\",\"ffffff\",\"feffc0\",\"020202\",\n",
    "    \"020202\"]},\n",
    "  name='landcover' )"
   ]
  },
  {
   "cell_type": "code",
   "execution_count": 70,
   "metadata": {},
   "outputs": [],
   "source": [
    "water= ee.ImageCollection('JRC/GSW1_1/MonthlyHistory').map(lambda image: image.clip(region))\n",
    "Map.addLayer(water, {\n",
    "  'bands': ['water'],\n",
    "  'min': 0.0,\n",
    "  'max': 2.0,\n",
    "  'palette': ['ffffff', 'fffcb8', '0905ff']\n",
    "}, 'water')"
   ]
  },
  {
   "cell_type": "code",
   "execution_count": 71,
   "metadata": {},
   "outputs": [],
   "source": [
    "DEM= '/Users/allen/OneDrive - University of Oklahoma/CRESTHH/DEM_10m.tif'\n"
   ]
  },
  {
   "cell_type": "code",
   "execution_count": null,
   "metadata": {},
   "outputs": [],
   "source": []
  }
 ],
 "metadata": {
  "kernelspec": {
   "display_name": "Python 3",
   "language": "python",
   "name": "python3"
  },
  "language_info": {
   "codemirror_mode": {
    "name": "ipython",
    "version": 3
   },
   "file_extension": ".py",
   "mimetype": "text/x-python",
   "name": "python",
   "nbconvert_exporter": "python",
   "pygments_lexer": "ipython3",
   "version": "3.6.8"
  }
 },
 "nbformat": 4,
 "nbformat_minor": 4
}
