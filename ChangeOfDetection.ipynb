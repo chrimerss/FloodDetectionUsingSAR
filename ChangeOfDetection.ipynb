{
 "cells": [
  {
   "cell_type": "code",
   "execution_count": 10,
   "metadata": {},
   "outputs": [],
   "source": [
    "import geemap\n",
    "import numpy as np\n",
    "import ee"
   ]
  },
  {
   "cell_type": "code",
   "execution_count": 11,
   "metadata": {},
   "outputs": [
    {
     "data": {
      "application/vnd.jupyter.widget-view+json": {
       "model_id": "f7fbd746f8a848e4a412df40c97cc222",
       "version_major": 2,
       "version_minor": 0
      },
      "text/plain": [
       "Map(center=[40, -100], controls=(WidgetControl(options=['position'], widget=HBox(children=(ToggleButton(value=…"
      ]
     },
     "metadata": {},
     "output_type": "display_data"
    }
   ],
   "source": [
    "Map= geemap.Map(center=[40,-100], zoom=4)\n",
    "Map"
   ]
  },
  {
   "cell_type": "code",
   "execution_count": 12,
   "metadata": {},
   "outputs": [],
   "source": [
    "#study area\n",
    "region_shp= '/Users/allen/OneDrive - University of Oklahoma/CRESTHH/Case study - Harvey/Houston_basin.shp'\n",
    "region= geemap.shp_to_ee(region_shp)\n",
    "Map.addLayer(region)"
   ]
  },
  {
   "cell_type": "markdown",
   "metadata": {},
   "source": [
    "# Acquisition of before before-event tile and after-event tile\n",
    "\n",
    "Smooth them with focal mean"
   ]
  },
  {
   "cell_type": "code",
   "execution_count": 13,
   "metadata": {},
   "outputs": [],
   "source": [
    "SAR_before= ee.Image('COPERNICUS/S1_GRD/S1B_IW_GRDH_1SDV_20170818T122205_20170818T122235_006994_00C525_B566').clip(region)\n",
    "before_filtered = SAR_before.select('VH').focal_mean(50, 'circle', 'meters')\n",
    "Map.addLayer(before_filtered, {'min':-30, 'max':5}, 'before event')"
   ]
  },
  {
   "cell_type": "code",
   "execution_count": 14,
   "metadata": {},
   "outputs": [],
   "source": [
    "SAR_after=ee.Image('COPERNICUS/S1_GRD/S1B_IW_GRDH_1SDV_20170830T122203_20170830T122232_007169_00CA2C_E7BF').clip(region)\n",
    "after_filtered = SAR_after.select('VH').focal_mean(50, 'circle', 'meters')\n",
    "Map.addLayer(after_filtered.select('VH'), {'min':-30, 'max':5}, 'after event')"
   ]
  },
  {
   "cell_type": "markdown",
   "metadata": {},
   "source": [
    "# Calculate the difference between before-event and after-event"
   ]
  },
  {
   "cell_type": "code",
   "execution_count": 15,
   "metadata": {},
   "outputs": [],
   "source": [
    "threshold= 1.25 # to adjust the threshold\n",
    "difference = after_filtered.divide(before_filtered)\n",
    "difference_binary = difference.gt(threshold)"
   ]
  },
  {
   "cell_type": "markdown",
   "metadata": {},
   "source": [
    "# Further refine the results with global open water dataset and DEM"
   ]
  },
  {
   "cell_type": "code",
   "execution_count": 16,
   "metadata": {},
   "outputs": [],
   "source": [
    "swater = ee.Image('JRC/GSW1_0/GlobalSurfaceWater').select('seasonality')\n",
    "swater_mask = swater.eq(10).updateMask(swater.gte(10)) #water presents larger than 10 months are regarded as permenant\n",
    "flooded_mask = difference_binary.where(swater_mask,0)\n",
    "flooded = flooded_mask.updateMask(flooded_mask)\n",
    "connections = flooded.connectedPixelCount() # filter out single pixels\n",
    "flooded = flooded.updateMask(connections.gte(8))\n",
    "\n",
    "# filter out places with slope larger than 5 percent\n",
    "DEM = ee.Image('WWF/HydroSHEDS/03VFDEM') #probably we can use HAND index\n",
    "terrain = ee.Algorithms.Terrain(DEM)\n",
    "slope = terrain.select('slope')\n",
    "flooded = flooded.updateMask(slope.lt(5))"
   ]
  },
  {
   "cell_type": "code",
   "execution_count": 17,
   "metadata": {},
   "outputs": [],
   "source": [
    "Map.addLayer(flooded,{'palette': 'blue'},'flooded')"
   ]
  },
  {
   "cell_type": "code",
   "execution_count": 22,
   "metadata": {},
   "outputs": [
    {
     "data": {
      "application/vnd.jupyter.widget-view+json": {
       "model_id": "937bfb178fe7445499422df7868db043",
       "version_major": 2,
       "version_minor": 0
      },
      "text/plain": [
       "Map(center=[40, -100], controls=(WidgetControl(options=['position'], widget=HBox(children=(ToggleButton(value=…"
      ]
     },
     "metadata": {},
     "output_type": "display_data"
    }
   ],
   "source": [
    "Map = geemap.Map()\n",
    "Map.addLayer(region)\n",
    "Map.addLayer(flooded,{'palette': 'blue'},'flooded')\n",
    "left_layer = geemap.ee_tile_layer(before_filtered, {'min':-30, 'max':1}, 'before Harvey')\n",
    "right_layer = geemap.ee_tile_layer(after_filtered, {'min':-30, 'max':1}, 'after Harvey')\n",
    "Map.split_map(left_layer,right_layer)\n",
    "Map"
   ]
  }
 ],
 "metadata": {
  "kernelspec": {
   "display_name": "Python 3",
   "language": "python",
   "name": "python3"
  },
  "language_info": {
   "codemirror_mode": {
    "name": "ipython",
    "version": 3
   },
   "file_extension": ".py",
   "mimetype": "text/x-python",
   "name": "python",
   "nbconvert_exporter": "python",
   "pygments_lexer": "ipython3",
   "version": "3.6.8"
  }
 },
 "nbformat": 4,
 "nbformat_minor": 4
}
